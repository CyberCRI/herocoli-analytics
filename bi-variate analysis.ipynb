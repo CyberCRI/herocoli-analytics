{
 "cells": [
  {
   "cell_type": "code",
   "execution_count": 7,
   "metadata": {
    "collapsed": true
   },
   "outputs": [],
   "source": [
    "%matplotlib inline\n",
    "\n",
    "import pandas as pd\n",
    "import matplotlib.pyplot as plt \n",
    "import seaborn as sns"
   ]
  },
  {
   "cell_type": "code",
   "execution_count": 8,
   "metadata": {
    "collapsed": false
   },
   "outputs": [],
   "source": [
    "df = pd.read_csv(\"data/stats.csv\")"
   ]
  },
  {
   "cell_type": "markdown",
   "metadata": {},
   "source": [
    "## normalization"
   ]
  },
  {
   "cell_type": "code",
   "execution_count": 4,
   "metadata": {
    "collapsed": false
   },
   "outputs": [],
   "source": [
    "df[\"gameVersion\"] = df[\"gameVersion\"].astype(str)"
   ]
  },
  {
   "cell_type": "code",
   "execution_count": 5,
   "metadata": {
    "collapsed": false
   },
   "outputs": [
    {
     "data": {
      "text/html": [
       "<div style=\"max-height:1000px;max-width:1500px;overflow:auto;\">\n",
       "<table border=\"1\" class=\"dataframe\">\n",
       "  <thead>\n",
       "    <tr style=\"text-align: right;\">\n",
       "      <th></th>\n",
       "      <th>id</th>\n",
       "      <th>serverTime</th>\n",
       "      <th>userTime</th>\n",
       "      <th>gameVersion</th>\n",
       "      <th>playerId</th>\n",
       "      <th>playerBirthdate</th>\n",
       "      <th>playerRegion</th>\n",
       "      <th>playerCountry</th>\n",
       "      <th>playerGender</th>\n",
       "      <th>playerExternalId</th>\n",
       "      <th>...</th>\n",
       "      <th>type</th>\n",
       "      <th>coordinates</th>\n",
       "      <th>section</th>\n",
       "      <th>customData.language</th>\n",
       "      <th>customData.controls</th>\n",
       "      <th>customData.device</th>\n",
       "      <th>customData.sound</th>\n",
       "      <th>customData.gamelevel</th>\n",
       "      <th>customData</th>\n",
       "      <th>customData.dnabit</th>\n",
       "    </tr>\n",
       "  </thead>\n",
       "  <tbody>\n",
       "    <tr>\n",
       "      <th>0</th>\n",
       "      <td> 13815a6e-da1d-4b1d-862f-6e394a4cec98</td>\n",
       "      <td> 2015-09-10T12:32:45.204Z</td>\n",
       "      <td> 2015-09-10T12:32:48.469Z</td>\n",
       "      <td> be209fe8-0ef3-4291-a5f4-c2b389f5d77d</td>\n",
       "      <td> 2bb4a2ab-eaf1-4e0e-b2fe-5f5e88248733</td>\n",
       "      <td>NaN</td>\n",
       "      <td>NaN</td>\n",
       "      <td>NaN</td>\n",
       "      <td>NaN</td>\n",
       "      <td>NaN</td>\n",
       "      <td>...</td>\n",
       "      <td> start</td>\n",
       "      <td> [-6, 143]</td>\n",
       "      <td>          NaN</td>\n",
       "      <td> NaN</td>\n",
       "      <td> NaN</td>\n",
       "      <td> NaN</td>\n",
       "      <td> NaN</td>\n",
       "      <td> NaN</td>\n",
       "      <td> null</td>\n",
       "      <td> NaN</td>\n",
       "    </tr>\n",
       "    <tr>\n",
       "      <th>1</th>\n",
       "      <td> 36963346-0445-45ce-bad0-b767325becb2</td>\n",
       "      <td> 2015-09-10T12:32:45.212Z</td>\n",
       "      <td> 2015-09-10T12:32:48.481Z</td>\n",
       "      <td> be209fe8-0ef3-4291-a5f4-c2b389f5d77d</td>\n",
       "      <td> 8565a7b9-811b-4b56-9cae-c7eeb28314d7</td>\n",
       "      <td>NaN</td>\n",
       "      <td>NaN</td>\n",
       "      <td>NaN</td>\n",
       "      <td>NaN</td>\n",
       "      <td>NaN</td>\n",
       "      <td>...</td>\n",
       "      <td> start</td>\n",
       "      <td> [-6, 143]</td>\n",
       "      <td>          NaN</td>\n",
       "      <td> NaN</td>\n",
       "      <td> NaN</td>\n",
       "      <td> NaN</td>\n",
       "      <td> NaN</td>\n",
       "      <td> NaN</td>\n",
       "      <td> null</td>\n",
       "      <td> NaN</td>\n",
       "    </tr>\n",
       "    <tr>\n",
       "      <th>2</th>\n",
       "      <td> 7705c2aa-1de0-40c2-8cea-71e60b326f54</td>\n",
       "      <td> 2015-09-10T12:33:35.665Z</td>\n",
       "      <td> 2015-09-10T12:33:38.935Z</td>\n",
       "      <td> be209fe8-0ef3-4291-a5f4-c2b389f5d77d</td>\n",
       "      <td> 8565a7b9-811b-4b56-9cae-c7eeb28314d7</td>\n",
       "      <td>NaN</td>\n",
       "      <td>NaN</td>\n",
       "      <td>NaN</td>\n",
       "      <td>NaN</td>\n",
       "      <td>NaN</td>\n",
       "      <td>...</td>\n",
       "      <td> reach</td>\n",
       "      <td> [-6, 134]</td>\n",
       "      <td> Checkpoint01</td>\n",
       "      <td> NaN</td>\n",
       "      <td> NaN</td>\n",
       "      <td> NaN</td>\n",
       "      <td> NaN</td>\n",
       "      <td> NaN</td>\n",
       "      <td> null</td>\n",
       "      <td> NaN</td>\n",
       "    </tr>\n",
       "    <tr>\n",
       "      <th>3</th>\n",
       "      <td> b327e325-bf7d-4ecc-9c7c-ab9b3894eedd</td>\n",
       "      <td> 2015-09-10T13:41:43.245Z</td>\n",
       "      <td> 2015-09-10T13:41:46.501Z</td>\n",
       "      <td> be209fe8-0ef3-4291-a5f4-c2b389f5d77d</td>\n",
       "      <td> 4d9c1137-d582-4333-b264-e59eebd2b6d8</td>\n",
       "      <td>NaN</td>\n",
       "      <td>NaN</td>\n",
       "      <td>NaN</td>\n",
       "      <td>NaN</td>\n",
       "      <td>NaN</td>\n",
       "      <td>...</td>\n",
       "      <td> start</td>\n",
       "      <td> [-6, 143]</td>\n",
       "      <td>          NaN</td>\n",
       "      <td> NaN</td>\n",
       "      <td> NaN</td>\n",
       "      <td> NaN</td>\n",
       "      <td> NaN</td>\n",
       "      <td> NaN</td>\n",
       "      <td> null</td>\n",
       "      <td> NaN</td>\n",
       "    </tr>\n",
       "    <tr>\n",
       "      <th>4</th>\n",
       "      <td> d00eb541-9be1-4483-b622-f72b30507adb</td>\n",
       "      <td> 2015-09-10T13:41:53.529Z</td>\n",
       "      <td> 2015-09-10T13:41:56.785Z</td>\n",
       "      <td> be209fe8-0ef3-4291-a5f4-c2b389f5d77d</td>\n",
       "      <td> 4d9c1137-d582-4333-b264-e59eebd2b6d8</td>\n",
       "      <td>NaN</td>\n",
       "      <td>NaN</td>\n",
       "      <td>NaN</td>\n",
       "      <td>NaN</td>\n",
       "      <td>NaN</td>\n",
       "      <td>...</td>\n",
       "      <td> reach</td>\n",
       "      <td> [-4, 134]</td>\n",
       "      <td> Checkpoint01</td>\n",
       "      <td> NaN</td>\n",
       "      <td> NaN</td>\n",
       "      <td> NaN</td>\n",
       "      <td> NaN</td>\n",
       "      <td> NaN</td>\n",
       "      <td> null</td>\n",
       "      <td> NaN</td>\n",
       "    </tr>\n",
       "  </tbody>\n",
       "</table>\n",
       "<p>5 rows × 21 columns</p>\n",
       "</div>"
      ],
      "text/plain": [
       "                                     id                serverTime  \\\n",
       "0  13815a6e-da1d-4b1d-862f-6e394a4cec98  2015-09-10T12:32:45.204Z   \n",
       "1  36963346-0445-45ce-bad0-b767325becb2  2015-09-10T12:32:45.212Z   \n",
       "2  7705c2aa-1de0-40c2-8cea-71e60b326f54  2015-09-10T12:33:35.665Z   \n",
       "3  b327e325-bf7d-4ecc-9c7c-ab9b3894eedd  2015-09-10T13:41:43.245Z   \n",
       "4  d00eb541-9be1-4483-b622-f72b30507adb  2015-09-10T13:41:53.529Z   \n",
       "\n",
       "                   userTime                           gameVersion  \\\n",
       "0  2015-09-10T12:32:48.469Z  be209fe8-0ef3-4291-a5f4-c2b389f5d77d   \n",
       "1  2015-09-10T12:32:48.481Z  be209fe8-0ef3-4291-a5f4-c2b389f5d77d   \n",
       "2  2015-09-10T12:33:38.935Z  be209fe8-0ef3-4291-a5f4-c2b389f5d77d   \n",
       "3  2015-09-10T13:41:46.501Z  be209fe8-0ef3-4291-a5f4-c2b389f5d77d   \n",
       "4  2015-09-10T13:41:56.785Z  be209fe8-0ef3-4291-a5f4-c2b389f5d77d   \n",
       "\n",
       "                               playerId  playerBirthdate  playerRegion  \\\n",
       "0  2bb4a2ab-eaf1-4e0e-b2fe-5f5e88248733              NaN           NaN   \n",
       "1  8565a7b9-811b-4b56-9cae-c7eeb28314d7              NaN           NaN   \n",
       "2  8565a7b9-811b-4b56-9cae-c7eeb28314d7              NaN           NaN   \n",
       "3  4d9c1137-d582-4333-b264-e59eebd2b6d8              NaN           NaN   \n",
       "4  4d9c1137-d582-4333-b264-e59eebd2b6d8              NaN           NaN   \n",
       "\n",
       "   playerCountry  playerGender  playerExternalId        ...          type  \\\n",
       "0            NaN           NaN               NaN        ...         start   \n",
       "1            NaN           NaN               NaN        ...         start   \n",
       "2            NaN           NaN               NaN        ...         reach   \n",
       "3            NaN           NaN               NaN        ...         start   \n",
       "4            NaN           NaN               NaN        ...         reach   \n",
       "\n",
       "  coordinates       section customData.language customData.controls  \\\n",
       "0   [-6, 143]           NaN                 NaN                 NaN   \n",
       "1   [-6, 143]           NaN                 NaN                 NaN   \n",
       "2   [-6, 134]  Checkpoint01                 NaN                 NaN   \n",
       "3   [-6, 143]           NaN                 NaN                 NaN   \n",
       "4   [-4, 134]  Checkpoint01                 NaN                 NaN   \n",
       "\n",
       "  customData.device customData.sound customData.gamelevel customData  \\\n",
       "0               NaN              NaN                  NaN       null   \n",
       "1               NaN              NaN                  NaN       null   \n",
       "2               NaN              NaN                  NaN       null   \n",
       "3               NaN              NaN                  NaN       null   \n",
       "4               NaN              NaN                  NaN       null   \n",
       "\n",
       "  customData.dnabit  \n",
       "0               NaN  \n",
       "1               NaN  \n",
       "2               NaN  \n",
       "3               NaN  \n",
       "4               NaN  \n",
       "\n",
       "[5 rows x 21 columns]"
      ]
     },
     "execution_count": 5,
     "metadata": {},
     "output_type": "execute_result"
    }
   ],
   "source": [
    "df.head()"
   ]
  },
  {
   "cell_type": "markdown",
   "metadata": {},
   "source": [
    "## Game versions"
   ]
  },
  {
   "cell_type": "code",
   "execution_count": 6,
   "metadata": {
    "collapsed": false
   },
   "outputs": [
    {
     "data": {
      "text/plain": [
       "be209fe8-0ef3-4291-a5f4-c2b389f5d77d    1774\n",
       "dtype: int64"
      ]
     },
     "execution_count": 6,
     "metadata": {},
     "output_type": "execute_result"
    }
   ],
   "source": [
    "#df.groupby(\"gameVersion\").size().plot(kind=\"bar\")\n",
    "# plt.figure();\n",
    "# df[\"gameVersion\"].astype(str).plot(kind=\"hist\")\n",
    "\n",
    "df[\"gameVersion\"].value_counts()"
   ]
  },
  {
   "cell_type": "markdown",
   "metadata": {},
   "source": [
    "## Player id"
   ]
  },
  {
   "cell_type": "code",
   "execution_count": 9,
   "metadata": {
    "collapsed": false
   },
   "outputs": [
    {
     "data": {
      "text/plain": [
       "<matplotlib.axes._subplots.AxesSubplot at 0x113f75cd0>"
      ]
     },
     "execution_count": 9,
     "metadata": {},
     "output_type": "execute_result"
    },
    {
     "data": {
      "image/png": "[encoded data removed]",
      "text/plain": [
       "<matplotlib.figure.Figure at 0x110bc7210>"
      ]
     },
     "metadata": {},
     "output_type": "display_data"
    }
   ],
   "source": [
    "df[\"playerId\"].value_counts().plot()"
   ]
  },
  {
   "cell_type": "code",
   "execution_count": null,
   "metadata": {
    "collapsed": true
   },
   "outputs": [],
   "source": []
  }
 ],
 "metadata": {
  "kernelspec": {
   "display_name": "Python 2",
   "language": "python",
   "name": "python2"
  },
  "language_info": {
   "codemirror_mode": {
    "name": "ipython",
    "version": 2
   },
   "file_extension": ".py",
   "mimetype": "text/x-python",
   "name": "python",
   "nbconvert_exporter": "python",
   "pygments_lexer": "ipython2",
   "version": "2.7.9"
  }
 },
 "nbformat": 4,
 "nbformat_minor": 0
}
